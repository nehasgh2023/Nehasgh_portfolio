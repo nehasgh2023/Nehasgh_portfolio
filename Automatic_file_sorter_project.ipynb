{
 "cells": [
  {
   "cell_type": "markdown",
   "id": "62cfff3e-58fc-4e0c-9cb8-1e9e973bac08",
   "metadata": {},
   "source": [
    "# Automatic File Sorter"
   ]
  },
  {
   "cell_type": "code",
   "execution_count": 31,
   "id": "130caba1-ddae-4789-810a-0c3c40241cb8",
   "metadata": {},
   "outputs": [],
   "source": [
    "import os, shutil"
   ]
  },
  {
   "cell_type": "markdown",
   "id": "203cb338-f957-40df-be8a-88282ba10a06",
   "metadata": {},
   "source": [
    "### file path that needs to be sorted "
   ]
  },
  {
   "cell_type": "code",
   "execution_count": 32,
   "id": "a1ffbfa9-c9d5-4ea8-b0d9-5c6de7bbcbf5",
   "metadata": {},
   "outputs": [],
   "source": [
    "path = (r'C:\\Users\\nehas\\Desktop\\Projects\\python_projects\\test_folder\\\\') # folder location that needs to be sorted "
   ]
  },
  {
   "cell_type": "markdown",
   "id": "28acc2ea-9261-4ef6-943e-12988a7623cf",
   "metadata": {},
   "source": [
    "###  check the list of the files in the specified path \n"
   ]
  },
  {
   "cell_type": "code",
   "execution_count": 33,
   "id": "466132b9-807a-4950-bc59-c74762d5c93e",
   "metadata": {},
   "outputs": [
    {
     "data": {
      "text/plain": [
       "['CSV Files',\n",
       " 'Excel Files',\n",
       " 'Image Files',\n",
       " 'Json Files',\n",
       " 'test_file.txt',\n",
       " 'test_file_excel4.xlsx',\n",
       " 'test_file_json1.json',\n",
       " 'test_file_json2.json',\n",
       " 'test_file_json3.json',\n",
       " 'test_file_json4.json',\n",
       " 'test_file_tsv1.tsv',\n",
       " 'test_file_tsv2.tsv',\n",
       " 'test_file_tsv3.tsv',\n",
       " 'Text Files',\n",
       " 'TSV Files']"
      ]
     },
     "execution_count": 33,
     "metadata": {},
     "output_type": "execute_result"
    }
   ],
   "source": [
    "os.listdir(path) # to check the list of the files in the specified path "
   ]
  },
  {
   "cell_type": "markdown",
   "id": "809a7e21-fca8-45cc-8564-613e2e158ab2",
   "metadata": {},
   "source": [
    "### create folders"
   ]
  },
  {
   "cell_type": "code",
   "execution_count": 34,
   "id": "05395fe3-826e-4c04-a2da-3f62914da5bf",
   "metadata": {},
   "outputs": [],
   "source": [
    "#os.makedirs(path + new_folder_name)"
   ]
  },
  {
   "cell_type": "code",
   "execution_count": 35,
   "id": "a68b58ca-7973-4cf4-aa8f-f50c187dedf1",
   "metadata": {},
   "outputs": [],
   "source": [
    "folder_names = ['CSV Files','Text Files','Image Files','TSV Files','Excel Files' , 'Json Files']\n",
    "\n",
    "#(r'C:\\Users\\nehas\\Desktop\\Projects\\python_projects\\test_folder\\Image Files') #checks of the file path with image files (for example) exists, if not then create \n",
    "\n",
    "for folder in folder_names:\n",
    "    if not os.path.exists(path + folder):\n",
    "        os.makedirs(path + folder)\n",
    " "
   ]
  },
  {
   "cell_type": "code",
   "execution_count": 37,
   "id": "e4f27875-0639-45d5-8195-732a17f19b03",
   "metadata": {},
   "outputs": [],
   "source": [
    "file_names = os.listdir(path)"
   ]
  },
  {
   "cell_type": "markdown",
   "id": "0942191d-eb56-4158-aad0-4d3b34253320",
   "metadata": {},
   "source": [
    "### check the files in the folder_names and if it's not there then move the files to the respective folders\n"
   ]
  },
  {
   "cell_type": "code",
   "execution_count": 42,
   "id": "00160f74-7ec2-4183-abc5-bf2ae39cc11c",
   "metadata": {},
   "outputs": [],
   "source": [
    "for file in file_names:\n",
    "    if \".csv\" in file and not os.path.exists(path + \"CSV Files\\\\\" + file):\n",
    "        shutil.move(path + file, path + \"CSV Files\\\\\" + file)\n",
    "\n",
    "    elif \".txt\" in file and not os.path.exists(path + \"Text Files\\\\\" + file):\n",
    "            shutil.move(path + file, path + \"Text Files\\\\\" + file)\n",
    "    \n",
    "    elif \".json\" in file and not os.path.exists(path + \"Json Files\\\\\" + file):\n",
    "            shutil.move(path + file, path + \"Json Files\\\\\" + file)\n",
    "    \n",
    "    elif \".xlsx\" in file and not os.path.exists(path + \"Excel Files\\\\\" + file):\n",
    "           shutil.move(path + file, path + \"Excel Files\\\\\" + file)\n",
    "    \n",
    "    elif \".tsv\" in file and not os.path.exists(path + \"TSV Files\\\\\" + file):\n",
    "            shutil.move(path + file, path + \"TSV Files\\\\\" + file)\n",
    "        \n",
    "    elif \".png\" in file and not os.path.exists(path + \"Image Files\\\\\" + file):\n",
    "            shutil.move(path + file, path + \"Image Files\\\\\" + file)"
   ]
  },
  {
   "cell_type": "code",
   "execution_count": null,
   "id": "010c1f4f-12b5-4224-bccb-369ab63872c8",
   "metadata": {},
   "outputs": [],
   "source": []
  }
 ],
 "metadata": {
  "kernelspec": {
   "display_name": "Python 3 (ipykernel)",
   "language": "python",
   "name": "python3"
  },
  "language_info": {
   "codemirror_mode": {
    "name": "ipython",
    "version": 3
   },
   "file_extension": ".py",
   "mimetype": "text/x-python",
   "name": "python",
   "nbconvert_exporter": "python",
   "pygments_lexer": "ipython3",
   "version": "3.11.7"
  }
 },
 "nbformat": 4,
 "nbformat_minor": 5
}
