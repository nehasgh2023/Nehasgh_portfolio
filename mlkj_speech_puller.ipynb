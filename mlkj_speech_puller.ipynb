{
 "cells": [
  {
   "cell_type": "markdown",
   "id": "43813722-2f55-487d-9173-5a74dd2f8615",
   "metadata": {},
   "source": [
    "# Web Scraping with RegEX + Pandas"
   ]
  },
  {
   "cell_type": "markdown",
   "id": "51b2e676-17f9-4963-95b4-49fe1fd4bdb1",
   "metadata": {},
   "source": [
    "### Scraping most repetitive words from Dr. Martin Luther King Jr. 'I have a Dream' speech"
   ]
  },
  {
   "cell_type": "code",
   "execution_count": 2,
   "id": "e93d2829-b696-42cd-b283-3b3633da925f",
   "metadata": {},
   "outputs": [],
   "source": [
    "from bs4 import BeautifulSoup\n",
    "import requests"
   ]
  },
  {
   "cell_type": "code",
   "execution_count": 3,
   "id": "62bbb7b4-1550-4af4-9e10-1d1648773222",
   "metadata": {},
   "outputs": [
    {
     "name": "stdout",
     "output_type": "stream",
     "text": [
      "<!DOCTYPE HTML PUBLIC \"-//IETF//DTD HTML//EN\">\n",
      "<html>\n",
      "<head>\n",
      "<meta content=\"text/html; charset=utf-8\" http-equiv=\"Content-Type\"/>\n",
      "<meta content=\"Microsoft FrontPage 4.0\" name=\"GENERATOR\"/>\n",
      "<title>Martin Luther King Jr.'s 1962 Speech</title>\n",
      "</head>\n",
      "<body alink=\"#FF0000\" bgcolor=\"#FFFFFF\" link=\"#0000FF\" text=\"#000000\" vlink=\"#551A8B\">\n",
      "<h1><font size=\"5\">Transcript of speech by </font><br/>\n",
      "Dr. Martin Luther King Jr. <br/>\n",
      "August 28, 1963. Lincoln Memorial in Washington D.C. </h1>\n",
      "<hr color=\"#008080\" noshade=\"\" size=\"5\"/>\n",
      "<p>I am happy to join with you today in what will go down in\n",
      "history as the greatest demonstration for freedom in the history\n",
      "of our nation. </p>\n",
      "<p>Five score years ago a great American in whose symbolic shadow\n",
      "we stand today signed the Emancipation Proclamation. This\n",
      "momentous decree came as a great beckoning light of hope to\n",
      "millions of Negro slaves who had been seared in the flames of\n",
      "withering injustice. It came as a joyous daybreak to end the long\n",
      "night of their captivity. </p>\n",
      "<p>But one hundred years later the Negro is still not free. One\n",
      "hundred years later the life of the Negro is still sadly crippled\n",
      "by the manacles of segregation and the chains of discrimination. </p>\n",
      "<p>One hundred years later the Negro lives on a lonely island of\n",
      "poverty in the midst of a vast ocean of material prosperity. </p>\n",
      "<p>One hundred years later the Negro is still languishing in the\n",
      "comers of American society and finds himself in exile in his own\n",
      "land. </p>\n",
      "<p>We all have come to this hallowed spot to remind America of\n",
      "the fierce urgency of now. Now is the time to rise from the dark\n",
      "and desolate valley of segregation to the sunlit path of racial\n",
      "justice. Now is the time to change racial injustice to the solid\n",
      "rock of brotherhood. Now is the time to make justice ring out for\n",
      "all of God's children. </p>\n",
      "<p>There will be neither rest nor tranquility in America until\n",
      "the Negro is granted citizenship rights. </p>\n",
      "<p>We must forever conduct our struggle on the high plane of\n",
      "dignity and discipline. We must not allow our creative protest to\n",
      "degenerate into physical violence. Again and again we must rise\n",
      "to the majestic heights of meeting physical force with soul\n",
      "force. </p>\n",
      "<p>And the marvelous new militarism which has engulfed the Negro\n",
      "community must not lead us to a distrust of all white people, for\n",
      "many of our white brothers have evidenced by their presence here\n",
      "today that they have come to realize that their destiny is part\n",
      "of our destiny. </p>\n",
      "<p>So even though we face the difficulties of today and tomorrow\n",
      "I still have a dream. It is a dream deeply rooted in the American\n",
      "dream. </p>\n",
      "<p>I have a dream that one day this nation will rise up and live\n",
      "out the true meaning of its creed: 'We hold these truths to be\n",
      "self-evident; that all men are created equal.\" </p>\n",
      "<p>I have a dream that one day on the red hills of Georgia the\n",
      "sons of former slaves and the sons of former slave owners will be\n",
      "able to sit together at the table of brotherhood. </p>\n",
      "<p>I have a dream that one day even the state of Mississippi, a\n",
      "state sweltering with the heat of injustice, sweltering with the\n",
      "heat of oppression, will be transformed into an oasis of freedom\n",
      "and justice. </p>\n",
      "<p>I have a dream that little children will one day live in a\n",
      "nation where they will not be judged by the color of their skin\n",
      "but by the content of their character. </p>\n",
      "<p>I have a dream today. </p>\n",
      "<p>I have a dream that one day down in Alabama, with its vicious\n",
      "racists, with its Governor having his lips dripping with the\n",
      "words of interposition and nullification, one day right there in\n",
      "Alabama little black boys and black girls will be able to join\n",
      "hands with little white boys and white girls as sisters and\n",
      "brothers. </p>\n",
      "<p>I have a dream today. </p>\n",
      "<p>I have a dream that one day every valley shall be exalted,\n",
      "every hill and mountain shall be made low, the rough places\n",
      "plains, and the crooked places will be made straight, and before\n",
      "the Lord will be revealed, and all flesh shall see it together. </p>\n",
      "<p>This is our hope. This is the faith that I go back to the\n",
      "mount with. With this faith we will be able to hew out of the\n",
      "mountain of despair a stone of hope. With this faith we will be\n",
      "able to transform the genuine discords of our nation into a\n",
      "beautiful symphony of brotherhood. With this faith we will be\n",
      "able to work together, pray together; to struggle together, to go\n",
      "to jail together, to stand up for freedom forever, )mowing that\n",
      "we will be free one day. </p>\n",
      "<p>And I say to you today my friends, let freedom ring. From the\n",
      "prodigious hilltops of New Hampshire, let freedom ring. From the\n",
      "mighty mountains of New York, let freedom ring. From the mighty\n",
      "Alleghenies of Pennsylvania! </p>\n",
      "<p>Let freedom ring from the snow capped Rockies of Colorado! </p>\n",
      "<p>Let freedom ring from the curvaceous slopes of California! </p>\n",
      "<p>But not only there; let freedom ring from the Stone Mountain\n",
      "of Georgia! </p>\n",
      "<p>Let freedom ring from Lookout Mountain in Tennessee! </p>\n",
      "<p>Let freedom ring from every hill and molehill in Mississippi.\n",
      "From every mountainside, let freedom ring. </p>\n",
      "<p>And when this happens, when we allow freedom to ring, when we\n",
      "let it ring from every village and hamlet, from every state and\n",
      "every city, we will be able to speed up that day when all of\n",
      "God's children, black men and white men, Jews and Gentiles,\n",
      "Protestants and Catholics, will be able to join hands and sing in\n",
      "the words of the old Negro spiritual, \"Free at last! Free at\n",
      "last! Thank God almighty, we're free at last!\" </p>\n",
      "</body>\n",
      "</html>\n",
      "\n"
     ]
    }
   ],
   "source": [
    "url = 'http://www.analytictech.com/mb021/mlk.htm'\n",
    "\n",
    "page = requests.get(url)\n",
    "\n",
    "soup = BeautifulSoup(page.text,'html')\n",
    "\n",
    "print(soup)\n"
   ]
  },
  {
   "cell_type": "code",
   "execution_count": 13,
   "id": "6dcf5c1b-16ae-4fda-a023-3e5cebbab631",
   "metadata": {},
   "outputs": [],
   "source": [
    "mlkj_speech = soup.find_all('p')"
   ]
  },
  {
   "cell_type": "code",
   "execution_count": 14,
   "id": "1538d9f9-b25c-4489-99f2-8d50dee3b3f7",
   "metadata": {},
   "outputs": [
    {
     "data": {
      "text/plain": [
       "bs4.element.ResultSet"
      ]
     },
     "execution_count": 14,
     "metadata": {},
     "output_type": "execute_result"
    }
   ],
   "source": [
    "type(mlkj_speech)"
   ]
  },
  {
   "cell_type": "code",
   "execution_count": 15,
   "id": "cdd0025a-29ae-4ab5-9365-237197001cde",
   "metadata": {},
   "outputs": [
    {
     "name": "stdout",
     "output_type": "stream",
     "text": [
      "['I am happy to join with you today in what will go down in\\r\\nhistory as the greatest demonstration for freedom in the history\\r\\nof our nation. ', 'Five score years ago a great American in whose symbolic shadow\\r\\nwe stand today signed the Emancipation Proclamation. This\\r\\nmomentous decree came as a great beckoning light of hope to\\r\\nmillions of Negro slaves who had been seared in the flames of\\r\\nwithering injustice. It came as a joyous daybreak to end the long\\r\\nnight of their captivity. ', 'But one hundred years later the Negro is still not free. One\\r\\nhundred years later the life of the Negro is still sadly crippled\\r\\nby the manacles of segregation and the chains of discrimination. ', 'One hundred years later the Negro lives on a lonely island of\\r\\npoverty in the midst of a vast ocean of material prosperity. ', 'One hundred years later the Negro is still languishing in the\\r\\ncomers of American society and finds himself in exile in his own\\r\\nland. ', \"We all have come to this hallowed spot to remind America of\\r\\nthe fierce urgency of now. Now is the time to rise from the dark\\r\\nand desolate valley of segregation to the sunlit path of racial\\r\\njustice. Now is the time to change racial injustice to the solid\\r\\nrock of brotherhood. Now is the time to make justice ring out for\\r\\nall of God's children. \", 'There will be neither rest nor tranquility in America until\\r\\nthe Negro is granted citizenship rights. ', 'We must forever conduct our struggle on the high plane of\\r\\ndignity and discipline. We must not allow our creative protest to\\r\\ndegenerate into physical violence. Again and again we must rise\\r\\nto the majestic heights of meeting physical force with soul\\r\\nforce. ', 'And the marvelous new militarism which has engulfed the Negro\\r\\ncommunity must not lead us to a distrust of all white people, for\\r\\nmany of our white brothers have evidenced by their presence here\\r\\ntoday that they have come to realize that their destiny is part\\r\\nof our destiny. ', 'So even though we face the difficulties of today and tomorrow\\r\\nI still have a dream. It is a dream deeply rooted in the American\\r\\ndream. ', 'I have a dream that one day this nation will rise up and live\\r\\nout the true meaning of its creed: \\'We hold these truths to be\\r\\nself-evident; that all men are created equal.\" ', 'I have a dream that one day on the red hills of Georgia the\\r\\nsons of former slaves and the sons of former slave owners will be\\r\\nable to sit together at the table of brotherhood. ', 'I have a dream that one day even the state of Mississippi, a\\r\\nstate sweltering with the heat of injustice, sweltering with the\\r\\nheat of oppression, will be transformed into an oasis of freedom\\r\\nand justice. ', 'I have a dream that little children will one day live in a\\r\\nnation where they will not be judged by the color of their skin\\r\\nbut by the content of their character. ', 'I have a dream today. ', 'I have a dream that one day down in Alabama, with its vicious\\r\\nracists, with its Governor having his lips dripping with the\\r\\nwords of interposition and nullification, one day right there in\\r\\nAlabama little black boys and black girls will be able to join\\r\\nhands with little white boys and white girls as sisters and\\r\\nbrothers. ', 'I have a dream today. ', 'I have a dream that one day every valley shall be exalted,\\r\\nevery hill and mountain shall be made low, the rough places\\r\\nplains, and the crooked places will be made straight, and before\\r\\nthe Lord will be revealed, and all flesh shall see it together. ', 'This is our hope. This is the faith that I go back to the\\r\\nmount with. With this faith we will be able to hew out of the\\r\\nmountain of despair a stone of hope. With this faith we will be\\r\\nable to transform the genuine discords of our nation into a\\r\\nbeautiful symphony of brotherhood. With this faith we will be\\r\\nable to work together, pray together; to struggle together, to go\\r\\nto jail together, to stand up for freedom forever, )mowing that\\r\\nwe will be free one day. ', 'And I say to you today my friends, let freedom ring. From the\\r\\nprodigious hilltops of New Hampshire, let freedom ring. From the\\r\\nmighty mountains of New York, let freedom ring. From the mighty\\r\\nAlleghenies of Pennsylvania! ', 'Let freedom ring from the snow capped Rockies of Colorado! ', 'Let freedom ring from the curvaceous slopes of California! ', 'But not only there; let freedom ring from the Stone Mountain\\r\\nof Georgia! ', 'Let freedom ring from Lookout Mountain in Tennessee! ', 'Let freedom ring from every hill and molehill in Mississippi.\\r\\nFrom every mountainside, let freedom ring. ', 'And when this happens, when we allow freedom to ring, when we\\r\\nlet it ring from every village and hamlet, from every state and\\r\\nevery city, we will be able to speed up that day when all of\\r\\nGod\\'s children, black men and white men, Jews and Gentiles,\\r\\nProtestants and Catholics, will be able to join hands and sing in\\r\\nthe words of the old Negro spiritual, \"Free at last! Free at\\r\\nlast! Thank God almighty, we\\'re free at last!\" ']\n"
     ]
    }
   ],
   "source": [
    "speech_combined = [ p.text  for p in mlkj_speech] # filtering out all the <p> tags\n",
    "\n",
    "print(speech_combined)"
   ]
  },
  {
   "cell_type": "code",
   "execution_count": 16,
   "id": "27704f35-3ae2-4ecd-b7d4-cfd76454f369",
   "metadata": {},
   "outputs": [
    {
     "data": {
      "text/plain": [
       "list"
      ]
     },
     "execution_count": 16,
     "metadata": {},
     "output_type": "execute_result"
    }
   ],
   "source": [
    "type(speech_combined)"
   ]
  },
  {
   "cell_type": "code",
   "execution_count": 19,
   "id": "50c02579-5ede-4cec-95b0-c18bb5d57ef0",
   "metadata": {},
   "outputs": [
    {
     "data": {
      "text/plain": [
       "'I am happy to join with you today in what will go down in\\r\\nhistory as the greatest demonstration for freedom in the history\\r\\nof our nation.  Five score years ago a great American in whose symbolic shadow\\r\\nwe stand today signed the Emancipation Proclamation. This\\r\\nmomentous decree came as a great beckoning light of hope to\\r\\nmillions of Negro slaves who had been seared in the flames of\\r\\nwithering injustice. It came as a joyous daybreak to end the long\\r\\nnight of their captivity.  But one hundred years later the Negro is still not free. One\\r\\nhundred years later the life of the Negro is still sadly crippled\\r\\nby the manacles of segregation and the chains of discrimination.  One hundred years later the Negro lives on a lonely island of\\r\\npoverty in the midst of a vast ocean of material prosperity.  One hundred years later the Negro is still languishing in the\\r\\ncomers of American society and finds himself in exile in his own\\r\\nland.  We all have come to this hallowed spot to remind America of\\r\\nthe fierce urgency of now. Now is the time to rise from the dark\\r\\nand desolate valley of segregation to the sunlit path of racial\\r\\njustice. Now is the time to change racial injustice to the solid\\r\\nrock of brotherhood. Now is the time to make justice ring out for\\r\\nall of God\\'s children.  There will be neither rest nor tranquility in America until\\r\\nthe Negro is granted citizenship rights.  We must forever conduct our struggle on the high plane of\\r\\ndignity and discipline. We must not allow our creative protest to\\r\\ndegenerate into physical violence. Again and again we must rise\\r\\nto the majestic heights of meeting physical force with soul\\r\\nforce.  And the marvelous new militarism which has engulfed the Negro\\r\\ncommunity must not lead us to a distrust of all white people, for\\r\\nmany of our white brothers have evidenced by their presence here\\r\\ntoday that they have come to realize that their destiny is part\\r\\nof our destiny.  So even though we face the difficulties of today and tomorrow\\r\\nI still have a dream. It is a dream deeply rooted in the American\\r\\ndream.  I have a dream that one day this nation will rise up and live\\r\\nout the true meaning of its creed: \\'We hold these truths to be\\r\\nself-evident; that all men are created equal.\"  I have a dream that one day on the red hills of Georgia the\\r\\nsons of former slaves and the sons of former slave owners will be\\r\\nable to sit together at the table of brotherhood.  I have a dream that one day even the state of Mississippi, a\\r\\nstate sweltering with the heat of injustice, sweltering with the\\r\\nheat of oppression, will be transformed into an oasis of freedom\\r\\nand justice.  I have a dream that little children will one day live in a\\r\\nnation where they will not be judged by the color of their skin\\r\\nbut by the content of their character.  I have a dream today.  I have a dream that one day down in Alabama, with its vicious\\r\\nracists, with its Governor having his lips dripping with the\\r\\nwords of interposition and nullification, one day right there in\\r\\nAlabama little black boys and black girls will be able to join\\r\\nhands with little white boys and white girls as sisters and\\r\\nbrothers.  I have a dream today.  I have a dream that one day every valley shall be exalted,\\r\\nevery hill and mountain shall be made low, the rough places\\r\\nplains, and the crooked places will be made straight, and before\\r\\nthe Lord will be revealed, and all flesh shall see it together.  This is our hope. This is the faith that I go back to the\\r\\nmount with. With this faith we will be able to hew out of the\\r\\nmountain of despair a stone of hope. With this faith we will be\\r\\nable to transform the genuine discords of our nation into a\\r\\nbeautiful symphony of brotherhood. With this faith we will be\\r\\nable to work together, pray together; to struggle together, to go\\r\\nto jail together, to stand up for freedom forever, )mowing that\\r\\nwe will be free one day.  And I say to you today my friends, let freedom ring. From the\\r\\nprodigious hilltops of New Hampshire, let freedom ring. From the\\r\\nmighty mountains of New York, let freedom ring. From the mighty\\r\\nAlleghenies of Pennsylvania!  Let freedom ring from the snow capped Rockies of Colorado!  Let freedom ring from the curvaceous slopes of California!  But not only there; let freedom ring from the Stone Mountain\\r\\nof Georgia!  Let freedom ring from Lookout Mountain in Tennessee!  Let freedom ring from every hill and molehill in Mississippi.\\r\\nFrom every mountainside, let freedom ring.  And when this happens, when we allow freedom to ring, when we\\r\\nlet it ring from every village and hamlet, from every state and\\r\\nevery city, we will be able to speed up that day when all of\\r\\nGod\\'s children, black men and white men, Jews and Gentiles,\\r\\nProtestants and Catholics, will be able to join hands and sing in\\r\\nthe words of the old Negro spiritual, \"Free at last! Free at\\r\\nlast! Thank God almighty, we\\'re free at last!\" '"
      ]
     },
     "execution_count": 19,
     "metadata": {},
     "output_type": "execute_result"
    }
   ],
   "source": [
    "' '.join(speech_combined) # removed ', ' in between the sentences"
   ]
  },
  {
   "cell_type": "code",
   "execution_count": 20,
   "id": "cae76dcd-97f6-4c77-891d-dde0d1c4fb67",
   "metadata": {},
   "outputs": [],
   "source": [
    "string_speech = ' '.join(speech_combined)"
   ]
  },
  {
   "cell_type": "code",
   "execution_count": 29,
   "id": "ef734d68-01c9-45a7-9ec9-ee0ae919c6d3",
   "metadata": {},
   "outputs": [
    {
     "data": {
      "text/plain": [
       "'I am happy to join with you today in what will go down in history as the greatest demonstration for freedom in the history of our nation.  Five score years ago a great American in whose symbolic shadow we stand today signed the Emancipation Proclamation. This momentous decree came as a great beckoning light of hope to millions of Negro slaves who had been seared in the flames of withering injustice. It came as a joyous daybreak to end the long night of their captivity.  But one hundred years later the Negro is still not free. One hundred years later the life of the Negro is still sadly crippled by the manacles of segregation and the chains of discrimination.  One hundred years later the Negro lives on a lonely island of poverty in the midst of a vast ocean of material prosperity.  One hundred years later the Negro is still languishing in the comers of American society and finds himself in exile in his own land.  We all have come to this hallowed spot to remind America of the fierce urgency of now. Now is the time to rise from the dark and desolate valley of segregation to the sunlit path of racial justice. Now is the time to change racial injustice to the solid rock of brotherhood. Now is the time to make justice ring out for all of God\\'s children.  There will be neither rest nor tranquility in America until the Negro is granted citizenship rights.  We must forever conduct our struggle on the high plane of dignity and discipline. We must not allow our creative protest to degenerate into physical violence. Again and again we must rise to the majestic heights of meeting physical force with soul force.  And the marvelous new militarism which has engulfed the Negro community must not lead us to a distrust of all white people, for many of our white brothers have evidenced by their presence here today that they have come to realize that their destiny is part of our destiny.  So even though we face the difficulties of today and tomorrow I still have a dream. It is a dream deeply rooted in the American dream.  I have a dream that one day this nation will rise up and live out the true meaning of its creed: \\'We hold these truths to be self-evident; that all men are created equal.\"  I have a dream that one day on the red hills of Georgia the sons of former slaves and the sons of former slave owners will be able to sit together at the table of brotherhood.  I have a dream that one day even the state of Mississippi, a state sweltering with the heat of injustice, sweltering with the heat of oppression, will be transformed into an oasis of freedom and justice.  I have a dream that little children will one day live in a nation where they will not be judged by the color of their skin but by the content of their character.  I have a dream today.  I have a dream that one day down in Alabama, with its vicious racists, with its Governor having his lips dripping with the words of interposition and nullification, one day right there in Alabama little black boys and black girls will be able to join hands with little white boys and white girls as sisters and brothers.  I have a dream today.  I have a dream that one day every valley shall be exalted, every hill and mountain shall be made low, the rough places plains, and the crooked places will be made straight, and before the Lord will be revealed, and all flesh shall see it together.  This is our hope. This is the faith that I go back to the mount with. With this faith we will be able to hew out of the mountain of despair a stone of hope. With this faith we will be able to transform the genuine discords of our nation into a beautiful symphony of brotherhood. With this faith we will be able to work together, pray together; to struggle together, to go to jail together, to stand up for freedom forever, )mowing that we will be free one day.  And I say to you today my friends, let freedom ring. From the prodigious hilltops of New Hampshire, let freedom ring. From the mighty mountains of New York, let freedom ring. From the mighty Alleghenies of Pennsylvania!  Let freedom ring from the snow capped Rockies of Colorado!  Let freedom ring from the curvaceous slopes of California!  But not only there; let freedom ring from the Stone Mountain of Georgia!  Let freedom ring from Lookout Mountain in Tennessee!  Let freedom ring from every hill and molehill in Mississippi. From every mountainside, let freedom ring.  And when this happens, when we allow freedom to ring, when we let it ring from every village and hamlet, from every state and every city, we will be able to speed up that day when all of God\\'s children, black men and white men, Jews and Gentiles, Protestants and Catholics, will be able to join hands and sing in the words of the old Negro spiritual, \"Free at last! Free at last! Thank God almighty, we\\'re free at last!\" '"
      ]
     },
     "execution_count": 29,
     "metadata": {},
     "output_type": "execute_result"
    }
   ],
   "source": [
    "string_speech.replace('\\r\\n' , ' ') # removing \\r\\n from the text by replacing it with blank space"
   ]
  },
  {
   "cell_type": "code",
   "execution_count": 30,
   "id": "1c463e4f-8e26-491a-b406-a8c2b86bbf0c",
   "metadata": {},
   "outputs": [],
   "source": [
    "string_speech_cleaned = string_speech.replace('\\r\\n' , ' ')"
   ]
  },
  {
   "cell_type": "code",
   "execution_count": 31,
   "id": "fb619c44-28ba-47f5-a153-d2b80658cd8f",
   "metadata": {},
   "outputs": [],
   "source": [
    "import re"
   ]
  },
  {
   "cell_type": "code",
   "execution_count": 33,
   "id": "22a342da-b1fd-4203-bfd5-267400e2b960",
   "metadata": {},
   "outputs": [
    {
     "name": "stdout",
     "output_type": "stream",
     "text": [
      "I am happy to join with you today in what will go down in history as the greatest demonstration for freedom in the history of our nation   Five score years ago a great American in whose symbolic shadow we stand today signed the Emancipation Proclamation  This momentous decree came as a great beckoning light of hope to millions of Negro slaves who had been seared in the flames of withering injustice  It came as a joyous daybreak to end the long night of their captivity   But one hundred years later the Negro is still not free  One hundred years later the life of the Negro is still sadly crippled by the manacles of segregation and the chains of discrimination   One hundred years later the Negro lives on a lonely island of poverty in the midst of a vast ocean of material prosperity   One hundred years later the Negro is still languishing in the comers of American society and finds himself in exile in his own land   We all have come to this hallowed spot to remind America of the fierce urgency of now  Now is the time to rise from the dark and desolate valley of segregation to the sunlit path of racial justice  Now is the time to change racial injustice to the solid rock of brotherhood  Now is the time to make justice ring out for all of God s children   There will be neither rest nor tranquility in America until the Negro is granted citizenship rights   We must forever conduct our struggle on the high plane of dignity and discipline  We must not allow our creative protest to degenerate into physical violence  Again and again we must rise to the majestic heights of meeting physical force with soul force   And the marvelous new militarism which has engulfed the Negro community must not lead us to a distrust of all white people  for many of our white brothers have evidenced by their presence here today that they have come to realize that their destiny is part of our destiny   So even though we face the difficulties of today and tomorrow I still have a dream  It is a dream deeply rooted in the American dream   I have a dream that one day this nation will rise up and live out the true meaning of its creed   We hold these truths to be self evident  that all men are created equal    I have a dream that one day on the red hills of Georgia the sons of former slaves and the sons of former slave owners will be able to sit together at the table of brotherhood   I have a dream that one day even the state of Mississippi  a state sweltering with the heat of injustice  sweltering with the heat of oppression  will be transformed into an oasis of freedom and justice   I have a dream that little children will one day live in a nation where they will not be judged by the color of their skin but by the content of their character   I have a dream today   I have a dream that one day down in Alabama  with its vicious racists  with its Governor having his lips dripping with the words of interposition and nullification  one day right there in Alabama little black boys and black girls will be able to join hands with little white boys and white girls as sisters and brothers   I have a dream today   I have a dream that one day every valley shall be exalted  every hill and mountain shall be made low  the rough places plains  and the crooked places will be made straight  and before the Lord will be revealed  and all flesh shall see it together   This is our hope  This is the faith that I go back to the mount with  With this faith we will be able to hew out of the mountain of despair a stone of hope  With this faith we will be able to transform the genuine discords of our nation into a beautiful symphony of brotherhood  With this faith we will be able to work together  pray together  to struggle together  to go to jail together  to stand up for freedom forever   mowing that we will be free one day   And I say to you today my friends  let freedom ring  From the prodigious hilltops of New Hampshire  let freedom ring  From the mighty mountains of New York  let freedom ring  From the mighty Alleghenies of Pennsylvania   Let freedom ring from the snow capped Rockies of Colorado   Let freedom ring from the curvaceous slopes of California   But not only there  let freedom ring from the Stone Mountain of Georgia   Let freedom ring from Lookout Mountain in Tennessee   Let freedom ring from every hill and molehill in Mississippi  From every mountainside  let freedom ring   And when this happens  when we allow freedom to ring  when we let it ring from every village and hamlet  from every state and every city  we will be able to speed up that day when all of God s children  black men and white men  Jews and Gentiles  Protestants and Catholics  will be able to join hands and sing in the words of the old Negro spiritual   Free at last  Free at last  Thank God almighty  we re free at last   \n"
     ]
    }
   ],
   "source": [
    "speech_no_punctuation = re.sub(r'[^\\w\\s]' , ' ',string_speech_cleaned ) # remove all the punctuation marks and white spaces\n",
    "print(speech_no_punctuation)"
   ]
  },
  {
   "cell_type": "raw",
   "id": "7d331a70-deb3-4f46-a6a5-4a6af15f87a0",
   "metadata": {},
   "source": [
    "speech_lower = speech_no_punctuation.lower()\n",
    "print(speech_lower)"
   ]
  },
  {
   "cell_type": "code",
   "execution_count": 47,
   "id": "8648de44-bedc-4062-8685-7c766d67ede0",
   "metadata": {},
   "outputs": [
    {
     "name": "stdout",
     "output_type": "stream",
     "text": [
      "['i', 'am', 'happy', 'to', 'join', 'with', 'you', 'today', 'in', 'what', 'will', 'go', 'down', 'in', 'history', 'as', 'the', 'greatest', 'demonstration', 'for', 'freedom', 'in', 'the', 'history', 'of', 'our', 'nation', 'five', 'score', 'years', 'ago', 'a', 'great', 'american', 'in', 'whose', 'symbolic', 'shadow', 'we', 'stand', 'today', 'signed', 'the', 'emancipation', 'proclamation', 'this', 'momentous', 'decree', 'came', 'as', 'a', 'great', 'beckoning', 'light', 'of', 'hope', 'to', 'millions', 'of', 'negro', 'slaves', 'who', 'had', 'been', 'seared', 'in', 'the', 'flames', 'of', 'withering', 'injustice', 'it', 'came', 'as', 'a', 'joyous', 'daybreak', 'to', 'end', 'the', 'long', 'night', 'of', 'their', 'captivity', 'but', 'one', 'hundred', 'years', 'later', 'the', 'negro', 'is', 'still', 'not', 'free', 'one', 'hundred', 'years', 'later', 'the', 'life', 'of', 'the', 'negro', 'is', 'still', 'sadly', 'crippled', 'by', 'the', 'manacles', 'of', 'segregation', 'and', 'the', 'chains', 'of', 'discrimination', 'one', 'hundred', 'years', 'later', 'the', 'negro', 'lives', 'on', 'a', 'lonely', 'island', 'of', 'poverty', 'in', 'the', 'midst', 'of', 'a', 'vast', 'ocean', 'of', 'material', 'prosperity', 'one', 'hundred', 'years', 'later', 'the', 'negro', 'is', 'still', 'languishing', 'in', 'the', 'comers', 'of', 'american', 'society', 'and', 'finds', 'himself', 'in', 'exile', 'in', 'his', 'own', 'land', 'we', 'all', 'have', 'come', 'to', 'this', 'hallowed', 'spot', 'to', 'remind', 'america', 'of', 'the', 'fierce', 'urgency', 'of', 'now', 'now', 'is', 'the', 'time', 'to', 'rise', 'from', 'the', 'dark', 'and', 'desolate', 'valley', 'of', 'segregation', 'to', 'the', 'sunlit', 'path', 'of', 'racial', 'justice', 'now', 'is', 'the', 'time', 'to', 'change', 'racial', 'injustice', 'to', 'the', 'solid', 'rock', 'of', 'brotherhood', 'now', 'is', 'the', 'time', 'to', 'make', 'justice', 'ring', 'out', 'for', 'all', 'of', 'god', 's', 'children', 'there', 'will', 'be', 'neither', 'rest', 'nor', 'tranquility', 'in', 'america', 'until', 'the', 'negro', 'is', 'granted', 'citizenship', 'rights', 'we', 'must', 'forever', 'conduct', 'our', 'struggle', 'on', 'the', 'high', 'plane', 'of', 'dignity', 'and', 'discipline', 'we', 'must', 'not', 'allow', 'our', 'creative', 'protest', 'to', 'degenerate', 'into', 'physical', 'violence', 'again', 'and', 'again', 'we', 'must', 'rise', 'to', 'the', 'majestic', 'heights', 'of', 'meeting', 'physical', 'force', 'with', 'soul', 'force', 'and', 'the', 'marvelous', 'new', 'militarism', 'which', 'has', 'engulfed', 'the', 'negro', 'community', 'must', 'not', 'lead', 'us', 'to', 'a', 'distrust', 'of', 'all', 'white', 'people', 'for', 'many', 'of', 'our', 'white', 'brothers', 'have', 'evidenced', 'by', 'their', 'presence', 'here', 'today', 'that', 'they', 'have', 'come', 'to', 'realize', 'that', 'their', 'destiny', 'is', 'part', 'of', 'our', 'destiny', 'so', 'even', 'though', 'we', 'face', 'the', 'difficulties', 'of', 'today', 'and', 'tomorrow', 'i', 'still', 'have', 'a', 'dream', 'it', 'is', 'a', 'dream', 'deeply', 'rooted', 'in', 'the', 'american', 'dream', 'i', 'have', 'a', 'dream', 'that', 'one', 'day', 'this', 'nation', 'will', 'rise', 'up', 'and', 'live', 'out', 'the', 'true', 'meaning', 'of', 'its', 'creed', 'we', 'hold', 'these', 'truths', 'to', 'be', 'self', 'evident', 'that', 'all', 'men', 'are', 'created', 'equal', 'i', 'have', 'a', 'dream', 'that', 'one', 'day', 'on', 'the', 'red', 'hills', 'of', 'georgia', 'the', 'sons', 'of', 'former', 'slaves', 'and', 'the', 'sons', 'of', 'former', 'slave', 'owners', 'will', 'be', 'able', 'to', 'sit', 'together', 'at', 'the', 'table', 'of', 'brotherhood', 'i', 'have', 'a', 'dream', 'that', 'one', 'day', 'even', 'the', 'state', 'of', 'mississippi', 'a', 'state', 'sweltering', 'with', 'the', 'heat', 'of', 'injustice', 'sweltering', 'with', 'the', 'heat', 'of', 'oppression', 'will', 'be', 'transformed', 'into', 'an', 'oasis', 'of', 'freedom', 'and', 'justice', 'i', 'have', 'a', 'dream', 'that', 'little', 'children', 'will', 'one', 'day', 'live', 'in', 'a', 'nation', 'where', 'they', 'will', 'not', 'be', 'judged', 'by', 'the', 'color', 'of', 'their', 'skin', 'but', 'by', 'the', 'content', 'of', 'their', 'character', 'i', 'have', 'a', 'dream', 'today', 'i', 'have', 'a', 'dream', 'that', 'one', 'day', 'down', 'in', 'alabama', 'with', 'its', 'vicious', 'racists', 'with', 'its', 'governor', 'having', 'his', 'lips', 'dripping', 'with', 'the', 'words', 'of', 'interposition', 'and', 'nullification', 'one', 'day', 'right', 'there', 'in', 'alabama', 'little', 'black', 'boys', 'and', 'black', 'girls', 'will', 'be', 'able', 'to', 'join', 'hands', 'with', 'little', 'white', 'boys', 'and', 'white', 'girls', 'as', 'sisters', 'and', 'brothers', 'i', 'have', 'a', 'dream', 'today', 'i', 'have', 'a', 'dream', 'that', 'one', 'day', 'every', 'valley', 'shall', 'be', 'exalted', 'every', 'hill', 'and', 'mountain', 'shall', 'be', 'made', 'low', 'the', 'rough', 'places', 'plains', 'and', 'the', 'crooked', 'places', 'will', 'be', 'made', 'straight', 'and', 'before', 'the', 'lord', 'will', 'be', 'revealed', 'and', 'all', 'flesh', 'shall', 'see', 'it', 'together', 'this', 'is', 'our', 'hope', 'this', 'is', 'the', 'faith', 'that', 'i', 'go', 'back', 'to', 'the', 'mount', 'with', 'with', 'this', 'faith', 'we', 'will', 'be', 'able', 'to', 'hew', 'out', 'of', 'the', 'mountain', 'of', 'despair', 'a', 'stone', 'of', 'hope', 'with', 'this', 'faith', 'we', 'will', 'be', 'able', 'to', 'transform', 'the', 'genuine', 'discords', 'of', 'our', 'nation', 'into', 'a', 'beautiful', 'symphony', 'of', 'brotherhood', 'with', 'this', 'faith', 'we', 'will', 'be', 'able', 'to', 'work', 'together', 'pray', 'together', 'to', 'struggle', 'together', 'to', 'go', 'to', 'jail', 'together', 'to', 'stand', 'up', 'for', 'freedom', 'forever', 'mowing', 'that', 'we', 'will', 'be', 'free', 'one', 'day', 'and', 'i', 'say', 'to', 'you', 'today', 'my', 'friends', 'let', 'freedom', 'ring', 'from', 'the', 'prodigious', 'hilltops', 'of', 'new', 'hampshire', 'let', 'freedom', 'ring', 'from', 'the', 'mighty', 'mountains', 'of', 'new', 'york', 'let', 'freedom', 'ring', 'from', 'the', 'mighty', 'alleghenies', 'of', 'pennsylvania', 'let', 'freedom', 'ring', 'from', 'the', 'snow', 'capped', 'rockies', 'of', 'colorado', 'let', 'freedom', 'ring', 'from', 'the', 'curvaceous', 'slopes', 'of', 'california', 'but', 'not', 'only', 'there', 'let', 'freedom', 'ring', 'from', 'the', 'stone', 'mountain', 'of', 'georgia', 'let', 'freedom', 'ring', 'from', 'lookout', 'mountain', 'in', 'tennessee', 'let', 'freedom', 'ring', 'from', 'every', 'hill', 'and', 'molehill', 'in', 'mississippi', 'from', 'every', 'mountainside', 'let', 'freedom', 'ring', 'and', 'when', 'this', 'happens', 'when', 'we', 'allow', 'freedom', 'to', 'ring', 'when', 'we', 'let', 'it', 'ring', 'from', 'every', 'village', 'and', 'hamlet', 'from', 'every', 'state', 'and', 'every', 'city', 'we', 'will', 'be', 'able', 'to', 'speed', 'up', 'that', 'day', 'when', 'all', 'of', 'god', 's', 'children', 'black', 'men', 'and', 'white', 'men', 'jews', 'and', 'gentiles', 'protestants', 'and', 'catholics', 'will', 'be', 'able', 'to', 'join', 'hands', 'and', 'sing', 'in', 'the', 'words', 'of', 'the', 'old', 'negro', 'spiritual', 'free', 'at', 'last', 'free', 'at', 'last', 'thank', 'god', 'almighty', 'we', 're', 'free', 'at', 'last', '']\n"
     ]
    }
   ],
   "source": [
    "speech_broken_out = re.split(r'\\s+',speech_lower) # splitting each work by delimeter, white space and putting in a list\n",
    "print(speech_broken_out)"
   ]
  },
  {
   "cell_type": "code",
   "execution_count": 48,
   "id": "29db021e-c4c4-444c-aada-67822cbd2813",
   "metadata": {},
   "outputs": [],
   "source": [
    "import pandas as pd\n"
   ]
  },
  {
   "cell_type": "code",
   "execution_count": 54,
   "id": "ea80f7a9-611b-4b1e-848d-c5ee7f635a4f",
   "metadata": {},
   "outputs": [
    {
     "data": {
      "text/plain": [
       "0     \n",
       "the       54\n",
       "of        49\n",
       "to        29\n",
       "and       27\n",
       "a         20\n",
       "          ..\n",
       "jews       1\n",
       "joyous     1\n",
       "judged     1\n",
       "land       1\n",
       "lord       1\n",
       "Name: count, Length: 324, dtype: int64"
      ]
     },
     "execution_count": 54,
     "metadata": {},
     "output_type": "execute_result"
    }
   ],
   "source": [
    "df = pd.DataFrame(speech_broken_out).value_counts() # counting the occurance of each words in the created list\n",
    "df"
   ]
  },
  {
   "cell_type": "code",
   "execution_count": 60,
   "id": "1456e4b3-eeae-4ae3-a7d3-83d9131440c4",
   "metadata": {},
   "outputs": [],
   "source": [
    "df.to_csv(r'C:\\Users\\nehas\\Desktop\\Projects\\python_projects\\mlkj_speech_web_pull\\mlkj_speech_counts.csv',index_label = 'words')"
   ]
  },
  {
   "cell_type": "code",
   "execution_count": null,
   "id": "98afaf88-2e3c-4cd8-8856-6ddb8b3955c1",
   "metadata": {},
   "outputs": [],
   "source": []
  }
 ],
 "metadata": {
  "kernelspec": {
   "display_name": "Python 3 (ipykernel)",
   "language": "python",
   "name": "python3"
  },
  "language_info": {
   "codemirror_mode": {
    "name": "ipython",
    "version": 3
   },
   "file_extension": ".py",
   "mimetype": "text/x-python",
   "name": "python",
   "nbconvert_exporter": "python",
   "pygments_lexer": "ipython3",
   "version": "3.11.7"
  }
 },
 "nbformat": 4,
 "nbformat_minor": 5
}
